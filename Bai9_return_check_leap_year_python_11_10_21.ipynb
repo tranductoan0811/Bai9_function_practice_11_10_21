{
 "cells": [
  {
   "cell_type": "code",
   "execution_count": 23,
   "id": "faf74b66",
   "metadata": {
    "scrolled": true
   },
   "outputs": [
    {
     "name": "stdout",
     "output_type": "stream",
     "text": [
      "\n",
      "Hàm kiểm tra năm nhuận\n",
      "    \n",
      "Nhập năm: 2000\n",
      "2000 year is leap year.\n"
     ]
    }
   ],
   "source": [
    "# Bài toán kiểm tra năm nhuận theo một năm bất kỳ nhập vào (11_10_21)\n",
    "def input_data():\n",
    "    nam = int(input(\"Nhập năm: \"))\n",
    "    return nam\n",
    "\n",
    "def nam_nhuan(year):\n",
    "    \"\"\"\n",
    "Hàm kiểm tra năm nhuận\n",
    "    \"\"\"\n",
    "    if (year % 4 == 0 and year % 100 != 0) or (year % 400 == 0):\n",
    "        return \"is leap year\"\n",
    "    return \"is not leap year\"\n",
    "\n",
    "\n",
    "\n",
    "def process_leapyr():\n",
    "    print(nam_nhuan.__doc__)\n",
    "    nam = input_data()\n",
    "    a = nam_nhuan(nam)\n",
    "    print(f\"{nam} year {a}.\")\n",
    "    \n",
    "process_leapyr()"
   ]
  },
  {
   "cell_type": "code",
   "execution_count": 22,
   "id": "9f1a7f08",
   "metadata": {},
   "outputs": [
    {
     "name": "stdout",
     "output_type": "stream",
     "text": [
      "\n",
      "Nhập năm đầu, năm sau trong khoảng\n",
      "    \n",
      "Nhập năm đầu: 2000\n",
      "Nhập năm sau: 2021\n",
      "\n",
      "Các năm nhuận trong khoảng từ năm 2000 đến năm 2021 : \n",
      "    \n",
      "[2000, 2004, 2008, 2012, 2016, 2020]\n"
     ]
    }
   ],
   "source": [
    "# Bài toán kiểm tra băm nhuận trong khoảng 2 năm bất kỳ nhập vào (11_10_21)\n",
    "def input_data():\n",
    "    \"\"\"\n",
    "Nhập năm đầu, năm sau trong khoảng\n",
    "    \"\"\"\n",
    "    nam_dau = int(input(\"Nhập năm đầu: \"))\n",
    "    nam_sau = int(input(\"Nhập năm sau: \"))\n",
    "    return nam_dau, nam_sau\n",
    "\n",
    "def nam_nhuan(a, b):\n",
    "    \"\"\"\n",
    "    Hàm trả về danh sách năm nhuận trong khoảng\n",
    "    \"\"\"\n",
    "    list = []\n",
    "    for i in range(a, b+1):\n",
    "        if (i % 4 == 0 and i % 100 != 0) or (i % 400 == 0):\n",
    "            list.append(i)\n",
    "    return list\n",
    "    \n",
    "\n",
    "def process_leapyear():\n",
    "    print(input_data.__doc__)\n",
    "    a, b = input_data()\n",
    "    c = nam_nhuan(a, b)\n",
    "    \n",
    "    print(f\"\"\"\\nCác năm nhuận trong khoảng từ năm {a} đến năm {b} : \n",
    "    \\n{c}\"\"\")\n",
    "    \n",
    "process_leapyear()"
   ]
  }
 ],
 "metadata": {
  "kernelspec": {
   "display_name": "Python 3 (ipykernel)",
   "language": "python",
   "name": "python3"
  },
  "language_info": {
   "codemirror_mode": {
    "name": "ipython",
    "version": 3
   },
   "file_extension": ".py",
   "mimetype": "text/x-python",
   "name": "python",
   "nbconvert_exporter": "python",
   "pygments_lexer": "ipython3",
   "version": "3.9.6"
  }
 },
 "nbformat": 4,
 "nbformat_minor": 5
}

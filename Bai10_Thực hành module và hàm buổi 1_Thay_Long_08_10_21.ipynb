{
 "cells": [
  {
   "cell_type": "markdown",
   "id": "a2a38651",
   "metadata": {},
   "source": [
    "## Bài 1:\n",
    "Viết hàm my_info() nhận vào 2 tham số `name` và `course`, sau đó in ra thông tin tương ứng. Ví dụ: \n",
    "```\n",
    "my_info('Long', 'Python')\n",
    "\n",
    "Output: \n",
    "My name is Long.\n",
    "I'm studying Python.\n",
    "```\n",
    "def my_info(name, course):\n",
    "    print()\n",
    "\n",
    "\n"
   ]
  },
  {
   "cell_type": "code",
   "execution_count": 5,
   "id": "5a9ab48b",
   "metadata": {},
   "outputs": [
    {
     "name": "stdout",
     "output_type": "stream",
     "text": [
      "My name is Toàn !\n",
      "I 'm studying  Python !\n"
     ]
    }
   ],
   "source": [
    "def my_info(name, course):\n",
    "    my_name = print(\"My name is\", name.title(), \"!\")\n",
    "    my_course = print(\"I 'm studying \", course.title(), \"!\")\n",
    "    \n",
    "my_info(name = \"toàn\", course = \"python\")"
   ]
  },
  {
   "cell_type": "code",
   "execution_count": 19,
   "id": "9ba7c5e5",
   "metadata": {},
   "outputs": [
    {
     "name": "stdout",
     "output_type": "stream",
     "text": [
      "toàn python\n"
     ]
    }
   ],
   "source": [
    "print(\"toàn\", \"python\")"
   ]
  },
  {
   "cell_type": "code",
   "execution_count": null,
   "id": "392f869d",
   "metadata": {},
   "outputs": [],
   "source": [
    "def my_info(...parameter here...):\n",
    "    # code below this line\n",
    "    pass\n",
    "    # code above this line\n",
    "    \n",
    "my_info('Long', 'Python')"
   ]
  },
  {
   "cell_type": "code",
   "execution_count": 12,
   "id": "ca3e67fb",
   "metadata": {},
   "outputs": [
    {
     "name": "stdout",
     "output_type": "stream",
     "text": [
      "long python\n"
     ]
    }
   ],
   "source": [
    "def my_info(name, course):\n",
    "    if name == \"\" or course == \"\":\n",
    "    \n",
    "        pass\n",
    "    else:\n",
    "        print(name, course)\n",
    "        \n",
    "\n",
    "my_info(name = \"long\", course = \"python\")"
   ]
  },
  {
   "cell_type": "markdown",
   "id": "7390cb06",
   "metadata": {},
   "source": [
    "## Bài 2:\n",
    "Viết hàm sum_even() nhận vào một số `n` và in ra tổng các số chẵn từ 2 đến n.\n",
    "Ví dụ:\n",
    "```\n",
    "sum_even(10)\n",
    "\n",
    "Output:\n",
    "30\n",
    "```"
   ]
  },
  {
   "cell_type": "code",
   "execution_count": null,
   "id": "df52dd4b",
   "metadata": {},
   "outputs": [],
   "source": [
    "def sum_even(...parameter here...):\n",
    "    # code below this line\n",
    "    pass\n",
    "    # code above this line\n",
    "\n",
    "sum_even(10)"
   ]
  },
  {
   "cell_type": "code",
   "execution_count": 30,
   "id": "a5757a4c",
   "metadata": {},
   "outputs": [
    {
     "name": "stdout",
     "output_type": "stream",
     "text": [
      "nhập số n :5\n"
     ]
    },
    {
     "ename": "NameError",
     "evalue": "name 'number' is not defined",
     "output_type": "error",
     "traceback": [
      "\u001b[1;31m---------------------------------------------------------------------------\u001b[0m",
      "\u001b[1;31mNameError\u001b[0m                                 Traceback (most recent call last)",
      "\u001b[1;32m~\\AppData\\Local\\Temp/ipykernel_3312/144853644.py\u001b[0m in \u001b[0;36m<module>\u001b[1;34m\u001b[0m\n\u001b[0;32m      8\u001b[0m \u001b[1;33m\u001b[0m\u001b[0m\n\u001b[0;32m      9\u001b[0m \u001b[1;33m\u001b[0m\u001b[0m\n\u001b[1;32m---> 10\u001b[1;33m \u001b[0mketqua\u001b[0m \u001b[1;33m=\u001b[0m \u001b[0msum_even\u001b[0m\u001b[1;33m(\u001b[0m\u001b[0mnumber\u001b[0m\u001b[1;33m)\u001b[0m\u001b[1;33m\u001b[0m\u001b[1;33m\u001b[0m\u001b[0m\n\u001b[0m\u001b[0;32m     11\u001b[0m \u001b[1;33m\u001b[0m\u001b[0m\n\u001b[0;32m     12\u001b[0m \u001b[0mprint\u001b[0m\u001b[1;33m(\u001b[0m\u001b[1;34mf\"Tổng các số chẵn là: {ketqua}\"\u001b[0m\u001b[1;33m)\u001b[0m\u001b[1;33m\u001b[0m\u001b[1;33m\u001b[0m\u001b[0m\n",
      "\u001b[1;31mNameError\u001b[0m: name 'number' is not defined"
     ]
    }
   ],
   "source": [
    "n = int(input(\"nhập số n :\"))\n",
    "def sum_even(number):\n",
    "    tong = 0\n",
    "    for i in range(n):\n",
    "        if i % 2 == 0:\n",
    "            tong = tong + i\n",
    "    return tong\n",
    "\n",
    "\n",
    "ketqua = sum_even(number)\n",
    "\n",
    "print(f\"Tổng các số chẵn là: {ketqua}\")\n",
    "\n",
    "        \n",
    "    \n",
    "    "
   ]
  },
  {
   "cell_type": "markdown",
   "id": "0f69e7f2",
   "metadata": {},
   "source": [
    "## Bài 3:\n",
    "Viết hàm easy_math() nhận vào 3 tham số `num1`, `op`, `num 2` để thực hiện phép tính tương ứng và in ra kết quả. \n",
    "Ví dụ:\n",
    "```\n",
    "easy_math(5, '+', 5)\n",
    "\n",
    "Output:\n",
    "10\n",
    "```\n"
   ]
  },
  {
   "cell_type": "code",
   "execution_count": null,
   "id": "ce6058ca",
   "metadata": {},
   "outputs": [],
   "source": [
    "def easy_math(...parameter here...):\n",
    "    # code below this line\n",
    "    pass\n",
    "    # code above this line\n",
    "\n",
    "easy_math(5, '+', 5)"
   ]
  },
  {
   "cell_type": "markdown",
   "id": "3239a01d",
   "metadata": {},
   "source": [
    "## Bài 4:\n",
    "Viết hàm check_even() nhận vào tham số `number` và kiểm tra xem `number` có phải là số chẵn hay không.\n",
    "Ví dụ:\n",
    "```\n",
    "check_even(5)\n",
    "\n",
    "Output:\n",
    "5 là số chẵn\n",
    "```"
   ]
  },
  {
   "cell_type": "code",
   "execution_count": null,
   "id": "f6a0918a",
   "metadata": {},
   "outputs": [],
   "source": [
    "def check_even(...parameter here...):\n",
    "    # code below this line\n",
    "    pass\n",
    "    # code above this line\n",
    "\n",
    "check_even(5)"
   ]
  },
  {
   "cell_type": "markdown",
   "id": "27a4bd3b",
   "metadata": {},
   "source": [
    "## Bài 5:\n",
    "Viết hàm transform_str() nhận vào tham số `string` và in ra `string` ở dạng uppercase và lowercase. Ví dụ:\n",
    "```\n",
    "transform_str('Function Is Magic!')\n",
    "\n",
    "Output:\n",
    "Lowercase: function is magic!\n",
    "Uppercase: FUNCTION IS MAGIC!\n",
    "```"
   ]
  },
  {
   "cell_type": "code",
   "execution_count": null,
   "id": "ae2891a8",
   "metadata": {},
   "outputs": [],
   "source": [
    "def transform_str(...parameter here...):\n",
    "    # code below this line\n",
    "    pass\n",
    "    # code above this line\n",
    "\n",
    "transform_str('Function Is Magic!')"
   ]
  },
  {
   "cell_type": "markdown",
   "id": "163331db",
   "metadata": {},
   "source": [
    "## Bài 6:\n",
    "Viết hàm calculate_factorial() nhận vào tham số `number` và in ra giai thừa của tham số đó. Ví dụ:\n",
    "```\n",
    "calculate_factorial(5)\n",
    "\n",
    "Output: 120\n",
    "```"
   ]
  },
  {
   "cell_type": "code",
   "execution_count": null,
   "id": "0047ec9d",
   "metadata": {},
   "outputs": [],
   "source": [
    "def calculate_factorial(...parameter here...):\n",
    "    # code below this line\n",
    "    pass\n",
    "    # code above this line\n",
    "\n",
    "calculate_factorial(5)"
   ]
  },
  {
   "cell_type": "code",
   "execution_count": 18,
   "id": "8ba6dc9a",
   "metadata": {},
   "outputs": [
    {
     "name": "stdout",
     "output_type": "stream",
     "text": [
      "Nhập số nguyên dương n = 5\n",
      "Giai thừa của số 5 là: 120\n"
     ]
    }
   ],
   "source": [
    "# Bài nhâp\n",
    "# 1. Giải thuật\n",
    "# Nếu n=0 hoặc n=1 thì ta có kết quả là 1\n",
    "# Nếu n>1 thì ta sẽ dùng công thức truy hồi để tính (n-1)! rồi sau đó nhân với n\n",
    "\n",
    "n = int(input(\"Nhập số nguyên dương n = \"))\n",
    "\n",
    "def tinh_giaithua(n):\n",
    "    \n",
    "    giai_thua = 1\n",
    "    if ( n == 0 or n == 1):\n",
    "        return giai_thua\n",
    "    else:\n",
    "        for i in range(2,n+1):\n",
    "            giai_thua = giai_thua * i\n",
    "        return giai_thua\n",
    "            \n",
    "ketqua = tinh_giaithua(n)\n",
    "print(f\"Giai thừa của số {n} là: {ketqua}\")\n",
    "    "
   ]
  },
  {
   "cell_type": "markdown",
   "id": "6d381154",
   "metadata": {},
   "source": [
    "## Bài 7:\n",
    "Dãy Fibonacci là dãy vô hạn các số tự nhiên bắt đầu bằng 1 và 1, sau đó các số tiếp theo sẽ bằng tổng của 2 số liền trước nó. \n",
    "\n",
    "Cụ thể, các số đầu tiên của dãy Fibonacci là 1, 1, 2, 3, 5, 8, 13, 21, 34, 55, 89, 144, 233, 377, 610... \n",
    "\n",
    "Nhiệm vụ: Viết chương trình find_fibo() nhận vào tham số `index` và in ra số Fibonacci ở vị trí `index`. Nếu `index` bằng 0 thì in ra 0. Ví dụ:\n",
    "\n",
    "```\n",
    "find_fibo(1)\n",
    "\n",
    "Output:\n",
    "1\n",
    "```\n",
    "-------------------\n",
    "```\n",
    "find_fibo(6)\n",
    "\n",
    "Output:\n",
    "8\n",
    "```\n",
    "-------------------\n",
    "```\n",
    "find_fibo(0)\n",
    "\n",
    "Output:\n",
    "0\n",
    "```"
   ]
  },
  {
   "cell_type": "code",
   "execution_count": null,
   "id": "0b8b2dc3",
   "metadata": {},
   "outputs": [],
   "source": [
    "def find_fibo(...parameter here...):\n",
    "    # code below this line\n",
    "    pass\n",
    "    # code above this line\n",
    "\n",
    "find_fibo(0)"
   ]
  },
  {
   "cell_type": "markdown",
   "id": "65db4551",
   "metadata": {},
   "source": [
    "## Bài 8:\n",
    "Viết hàm find_divisors() nhận vào một số nguyên dương `number` và in ra tất cả các ước của `number`. Ví dụ:\n",
    "```\n",
    "find_divisors(24)\n",
    "\n",
    "Output:\n",
    "Ước của 24 là: 1, 2, 3, 4, 6, 8, 12, 24\n",
    "```"
   ]
  },
  {
   "cell_type": "code",
   "execution_count": null,
   "id": "d9b20c10",
   "metadata": {},
   "outputs": [],
   "source": [
    "def find_divisors(...parameter here...):\n",
    "    # code below this line\n",
    "    pass\n",
    "    # code above this line\n",
    "\n",
    "find_divisors(24)"
   ]
  },
  {
   "cell_type": "markdown",
   "id": "37000ab2",
   "metadata": {},
   "source": [
    "## Bài 9:\n",
    "Viết hàm solve_equation() để giải phương trình bậc nhất ax + b = 0 với `a` và `b` là 2 tham số đầu vào. Ví dụ:\n",
    "```\n",
    "solve_equation(2, -4)\n",
    "\n",
    "Output: \n",
    "x = 2\n",
    "```\n",
    "---\n",
    "```\n",
    "solve_equation(0, 0)\n",
    "\n",
    "Output: \n",
    "Phương trình vô số nghiệm\n",
    "```\n",
    "---\n",
    "```\n",
    "solve_equation(0, -4)\n",
    "\n",
    "Output: \n",
    "Phương trình vô nghiệm\n",
    "```"
   ]
  },
  {
   "cell_type": "code",
   "execution_count": null,
   "id": "abfc5589",
   "metadata": {},
   "outputs": [],
   "source": [
    "def solve_equation(...parameter here...):\n",
    "    # code below this line\n",
    "    pass\n",
    "    # code above this line\n",
    "\n",
    "solve_equation(2, -4)"
   ]
  },
  {
   "cell_type": "markdown",
   "id": "a483ed69",
   "metadata": {},
   "source": [
    "## Bài 10:\n",
    "Viết hàm find_distance() nhận vào 4 tham số `x1`, `y1`, `x2`, `y2` là tọa độ của 2 điểm trên trục tọa độ và in ra khoảng cách của 2 điểm đó theo công thức:\n",
    "```\n",
    "distance = sqrt((x1-x2)^2 + (y1-y2)^2)\n",
    "```\n",
    "Tham khảo: https://toanthaydinh.com/cong-thuc-tinh-khoang-cach-giua-2-diem/\n",
    "Khoảng cách được làm tròn 2 chữ số thập phân.\n",
    "\n",
    "Ví dụ:\n",
    "```\n",
    "find_distance(5, 2, 1, 3)\n",
    "\n",
    "Output:\n",
    "4.12\n",
    "```"
   ]
  },
  {
   "cell_type": "code",
   "execution_count": null,
   "id": "2dcf614e",
   "metadata": {},
   "outputs": [],
   "source": [
    "def find_distance(...parameter here...):\n",
    "    # code below this line\n",
    "    pass\n",
    "    # code above this line\n",
    "\n",
    "find_distance(5, 2, 1, 3)"
   ]
  },
  {
   "cell_type": "code",
   "execution_count": 13,
   "id": "e3dd3426",
   "metadata": {
    "scrolled": true
   },
   "outputs": [
    {
     "name": "stdout",
     "output_type": "stream",
     "text": [
      "nhập chuối lớn : abaaaabaaa\n",
      "nhập chuỗi nhỏ : a\n",
      "6\n"
     ]
    }
   ],
   "source": [
    "chuoi_lon = input(\"nhập chuối lớn : \")\n",
    "chuoi_nho = input(\"nhập chuỗi nhỏ : \")\n",
    "# Default value sử dụng để gán trị cho parameter. \n",
    "# khi Function được gọi, truyền giá trị cho tham số thiếu giá trị, python sẻ sử dụng default value\n",
    "\n",
    "\n",
    "def count_apearance(my_str, sub_str = \"\"):\n",
    "    print(my_str.count(sub_str)     )\n",
    "        \n",
    "count_apearance(\"aa abb bb aaa\", \"a\")"
   ]
  },
  {
   "cell_type": "code",
   "execution_count": 10,
   "id": "a10b147d",
   "metadata": {},
   "outputs": [
    {
     "name": "stdout",
     "output_type": "stream",
     "text": [
      "I am from Sweden\n"
     ]
    }
   ],
   "source": [
    "def my_function(f_name, sex, country = \"Norway\"):\n",
    "  print(\"I am from \" + country)\n",
    "\n",
    "\n",
    "\n",
    "\n",
    "my_function(\"aâadf\", \"female\", \"Sweden\")\n"
   ]
  },
  {
   "cell_type": "code",
   "execution_count": 15,
   "id": "605aaeb1",
   "metadata": {},
   "outputs": [
    {
     "name": "stdout",
     "output_type": "stream",
     "text": [
      "2\n"
     ]
    }
   ],
   "source": [
    "# keyword argument\n",
    "\n",
    "def substract(a, b):\n",
    "    print(a-b)\n",
    "    \n",
    "substract(5,3)\n",
    "    \n",
    "    "
   ]
  },
  {
   "cell_type": "code",
   "execution_count": 32,
   "id": "16c94052",
   "metadata": {},
   "outputs": [
    {
     "name": "stdout",
     "output_type": "stream",
     "text": [
      "chuỗi 10 dài hơn\n"
     ]
    }
   ],
   "source": [
    "def length_str(my_str):\n",
    "    # process\n",
    "    return len(my_str)\n",
    "        \n",
    "len1 = length_str(\"toàn\")\n",
    "len2 = length_str(\"windows 11\")\n",
    "# Bài toán nhập vào 2 chuỗi , và so sánh độ dài chuỗi\n",
    "if len1 <= len2:\n",
    "    print(f\"chuỗi {len2} dài hơn\")\n",
    "else: \n",
    "    print(f\"chuỗi {len1} dài hơn\")\n"
   ]
  },
  {
   "cell_type": "code",
   "execution_count": 38,
   "id": "8a5996b7",
   "metadata": {},
   "outputs": [
    {
     "name": "stdout",
     "output_type": "stream",
     "text": [
      "nhập a : 2\n",
      "nhập b : 3\n",
      "Lũy thừa của hai số 2 và 3: 2 ^ 3 = 8\n"
     ]
    }
   ],
   "source": [
    "# Hàm nhập vào 2 số nguyên dương a, b và tính lũy thừa a ^ b\n",
    "# Viết hàm nhập dữ liệu: thực hiện nhập dữ liệu\n",
    "def input_data():\n",
    "    a, b = int(input(\"nhập a : \")),int(input(\"nhập b : \"))\n",
    "    return a, b\n",
    "    \n",
    "# Write function: call \n",
    "def calc_pow(a, b):\n",
    "    return a ** b\n",
    "\n",
    "# Hàm proces để thực hiện các công việc theo từng bước\n",
    "\n",
    "def process():\n",
    "    a, b = input_data()\n",
    "    ketqua = calc_pow(a, b)\n",
    "    print(f\"Lũy thừa của hai số {a} và {b}: {a} ^ {b} = {ketqua}\")\n",
    "\n",
    "process()   \n"
   ]
  },
  {
   "cell_type": "code",
   "execution_count": null,
   "id": "6d9c7e76",
   "metadata": {},
   "outputs": [],
   "source": [
    "def input_data():\n",
    "    a, b = map(int, input().split())\n",
    "    return a, b\n",
    "a,b=input_data()\n",
    "def luy_thua():\n",
    "    return math.pow(a, b)\n",
    "print(\"%d\" % luy_thua())"
   ]
  },
  {
   "cell_type": "code",
   "execution_count": null,
   "id": "0c9ec88c",
   "metadata": {},
   "outputs": [],
   "source": []
  }
 ],
 "metadata": {
  "kernelspec": {
   "display_name": "Python 3 (ipykernel)",
   "language": "python",
   "name": "python3"
  },
  "language_info": {
   "codemirror_mode": {
    "name": "ipython",
    "version": 3
   },
   "file_extension": ".py",
   "mimetype": "text/x-python",
   "name": "python",
   "nbconvert_exporter": "python",
   "pygments_lexer": "ipython3",
   "version": "3.9.6"
  }
 },
 "nbformat": 4,
 "nbformat_minor": 5
}
